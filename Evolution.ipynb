{
 "cells": [
  {
   "cell_type": "code",
   "execution_count": 2,
   "metadata": {},
   "outputs": [],
   "source": [
    "import numpy as np\n",
    "import matplotlib.pyplot as plt\n",
    "from ipywidgets import interactive,fixed"
   ]
  },
  {
   "attachments": {},
   "cell_type": "markdown",
   "metadata": {},
   "source": [
    "#### Wright-FisherModel\n",
    "$$P\\{n_i(t+1)|x_i(t)\\}=\\frac{N!}{\\Pi_jn_j(t+1)}\\Pi_j[x_j(t+1)]^{n_j(t+1)}"
   ]
  },
  {
   "cell_type": "code",
   "execution_count": 3,
   "metadata": {},
   "outputs": [
    {
     "data": {
      "application/vnd.jupyter.widget-view+json": {
       "model_id": "446926758ffe4c61a6ee9bb6064f2efd",
       "version_major": 2,
       "version_minor": 0
      },
      "text/plain": [
       "interactive(children=(IntSlider(value=500, description='N', max=1000, min=10, step=10), IntSlider(value=3, des…"
      ]
     },
     "execution_count": 3,
     "metadata": {},
     "output_type": "execute_result"
    }
   ],
   "source": [
    "def generations(t, N, s, u, k, fitness):\n",
    "  M_k = [] # Number of Mutants in classes\n",
    "  Mclasses_k, Nclasses_k = [], []\n",
    "  if t == 0:\n",
    "    # Definition of a function Y_k(t) as fractions of classes\n",
    "    frac_x_k = [np.exp(-s*i)*j/N for i, j in enumerate(np.random.multinomial(N,\n",
    "                                                       np.ones(k)/k))]\n",
    "    Mclasses_k = np.random.multinomial(N, frac_x_k/np.sum(frac_x_k))\n",
    "  else:\n",
    "    Mclasses_k, fitness = generations(t - 1, N, s, u, k, fitness=fitness)\n",
    "\n",
    "  M_k = np.random.binomial(Mclasses_k, u) # Number of Mutant in classes\n",
    "  for i in range(len(Mclasses_k)):\n",
    "    Nclasses_k.append(Mclasses_k[i] - M_k[i])\n",
    "    if i > 0: Nclasses_k[-1] += (M_k[i - 1])\n",
    "  Nclasses_k.append(M_k[i])\n",
    "  fitness.append(np.sum([np.exp(-s*j)*l for j, l in enumerate(Nclasses_k)])/N)\n",
    "  return Nclasses_k, fitness\n",
    "\n",
    "# Speed of Adaptation\n",
    "def af(t, N, k, s, u):\n",
    "  fitness = []\n",
    "  Nclasses_k, fitness = generations(t, N, s, u, k, fitness=fitness)\n",
    "\n",
    "  fig, ax = plt.subplots(figsize=(8, 5))\n",
    "  plt.xlabel(\"Time\")\n",
    "  plt.ylabel(\"Average Fitness\")\n",
    "  #plt.yticks([1, 4])\n",
    "  plt.title(\"Speed of Adaptation\")\n",
    "  plt.ylim(0, 1)\n",
    "  plt.xlim(1, t)\n",
    "  plt.xscale(\"log\")\n",
    "  #ax.legend()\n",
    "  fig.patch.set_facecolor(\"white\")\n",
    "  plt.plot(fitness, color='r')\n",
    "\n",
    "T = 1000\n",
    "N = 100\n",
    "plotted = interactive(af, t=fixed(T), N=(10, 1000, 10), k=(1, 5),\n",
    "                      s=(0.0001, 1.0, 0.0001), u=(0.01, 0.91, 0.1))\n",
    "plotted"
   ]
  },
  {
   "cell_type": "code",
   "execution_count": null,
   "metadata": {},
   "outputs": [],
   "source": []
  }
 ],
 "metadata": {
  "kernelspec": {
   "display_name": "Python 3",
   "language": "python",
   "name": "python3"
  },
  "language_info": {
   "codemirror_mode": {
    "name": "ipython",
    "version": 3
   },
   "file_extension": ".py",
   "mimetype": "text/x-python",
   "name": "python",
   "nbconvert_exporter": "python",
   "pygments_lexer": "ipython3",
   "version": "3.10.6"
  },
  "orig_nbformat": 4,
  "vscode": {
   "interpreter": {
    "hash": "e7370f93d1d0cde622a1f8e1c04877d8463912d04d973331ad4851f04de6915a"
   }
  }
 },
 "nbformat": 4,
 "nbformat_minor": 2
}
